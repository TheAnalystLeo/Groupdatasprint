{
 "cells": [
  {
   "cell_type": "markdown",
   "id": "427f2b1b",
   "metadata": {},
   "source": [
    "# <font color='blue'> Data Sprint HDB Resale Prices </font>"
   ]
  },
  {
   "cell_type": "markdown",
   "id": "d2a77373",
   "metadata": {},
   "source": [
    "Group 4: Ameer, Benjamin, Leonard, Wei Yu."
   ]
  },
  {
   "cell_type": "markdown",
   "id": "aebed891",
   "metadata": {},
   "source": [
    "### Exploration:"
   ]
  },
  {
   "cell_type": "code",
   "execution_count": 437,
   "id": "e5a959b9",
   "metadata": {},
   "outputs": [],
   "source": [
    "import pandas as pd\n",
    "import numpy as np\n",
    "import matplotlib.pyplot as plt\n",
    "import plotly.express as px\n",
    "import seaborn as sns\n",
    "from scipy.stats import iqr\n",
    "\n",
    "%matplotlib inline"
   ]
  },
  {
   "cell_type": "code",
   "execution_count": 438,
   "id": "f84a8ef1",
   "metadata": {},
   "outputs": [
    {
     "name": "stderr",
     "output_type": "stream",
     "text": [
      "C:\\Users\\benwr\\AppData\\Local\\Temp\\ipykernel_13008\\3995983073.py:1: DtypeWarning: Columns (42) have mixed types. Specify dtype option on import or set low_memory=False.\n",
      "  hdb = pd.read_csv('./datasets/train.csv')\n"
     ]
    },
    {
     "data": {
      "text/html": [
       "<div>\n",
       "<style scoped>\n",
       "    .dataframe tbody tr th:only-of-type {\n",
       "        vertical-align: middle;\n",
       "    }\n",
       "\n",
       "    .dataframe tbody tr th {\n",
       "        vertical-align: top;\n",
       "    }\n",
       "\n",
       "    .dataframe thead th {\n",
       "        text-align: right;\n",
       "    }\n",
       "</style>\n",
       "<table border=\"1\" class=\"dataframe\">\n",
       "  <thead>\n",
       "    <tr style=\"text-align: right;\">\n",
       "      <th></th>\n",
       "      <th>id</th>\n",
       "      <th>Tranc_YearMonth</th>\n",
       "      <th>town</th>\n",
       "      <th>flat_type</th>\n",
       "      <th>block</th>\n",
       "      <th>street_name</th>\n",
       "      <th>storey_range</th>\n",
       "      <th>floor_area_sqm</th>\n",
       "      <th>flat_model</th>\n",
       "      <th>lease_commence_date</th>\n",
       "      <th>...</th>\n",
       "      <th>vacancy</th>\n",
       "      <th>pri_sch_affiliation</th>\n",
       "      <th>pri_sch_latitude</th>\n",
       "      <th>pri_sch_longitude</th>\n",
       "      <th>sec_sch_nearest_dist</th>\n",
       "      <th>sec_sch_name</th>\n",
       "      <th>cutoff_point</th>\n",
       "      <th>affiliation</th>\n",
       "      <th>sec_sch_latitude</th>\n",
       "      <th>sec_sch_longitude</th>\n",
       "    </tr>\n",
       "  </thead>\n",
       "  <tbody>\n",
       "    <tr>\n",
       "      <th>0</th>\n",
       "      <td>88471</td>\n",
       "      <td>2016-05</td>\n",
       "      <td>KALLANG/WHAMPOA</td>\n",
       "      <td>4 ROOM</td>\n",
       "      <td>3B</td>\n",
       "      <td>UPP BOON KENG RD</td>\n",
       "      <td>10 TO 12</td>\n",
       "      <td>90.0</td>\n",
       "      <td>Model A</td>\n",
       "      <td>2006</td>\n",
       "      <td>...</td>\n",
       "      <td>78</td>\n",
       "      <td>1</td>\n",
       "      <td>1.317659</td>\n",
       "      <td>103.882504</td>\n",
       "      <td>1138.633422</td>\n",
       "      <td>Geylang Methodist School</td>\n",
       "      <td>224</td>\n",
       "      <td>0</td>\n",
       "      <td>1.317659</td>\n",
       "      <td>103.882504</td>\n",
       "    </tr>\n",
       "    <tr>\n",
       "      <th>1</th>\n",
       "      <td>122598</td>\n",
       "      <td>2012-07</td>\n",
       "      <td>BISHAN</td>\n",
       "      <td>5 ROOM</td>\n",
       "      <td>153</td>\n",
       "      <td>BISHAN ST 13</td>\n",
       "      <td>07 TO 09</td>\n",
       "      <td>130.0</td>\n",
       "      <td>Improved</td>\n",
       "      <td>1987</td>\n",
       "      <td>...</td>\n",
       "      <td>45</td>\n",
       "      <td>1</td>\n",
       "      <td>1.349783</td>\n",
       "      <td>103.854529</td>\n",
       "      <td>447.894399</td>\n",
       "      <td>Kuo Chuan Presbyterian Secondary School</td>\n",
       "      <td>232</td>\n",
       "      <td>0</td>\n",
       "      <td>1.350110</td>\n",
       "      <td>103.854892</td>\n",
       "    </tr>\n",
       "    <tr>\n",
       "      <th>2</th>\n",
       "      <td>170897</td>\n",
       "      <td>2013-07</td>\n",
       "      <td>BUKIT BATOK</td>\n",
       "      <td>EXECUTIVE</td>\n",
       "      <td>289B</td>\n",
       "      <td>BT BATOK ST 25</td>\n",
       "      <td>13 TO 15</td>\n",
       "      <td>144.0</td>\n",
       "      <td>Apartment</td>\n",
       "      <td>1997</td>\n",
       "      <td>...</td>\n",
       "      <td>39</td>\n",
       "      <td>0</td>\n",
       "      <td>1.345245</td>\n",
       "      <td>103.756265</td>\n",
       "      <td>180.074558</td>\n",
       "      <td>Yusof Ishak Secondary School</td>\n",
       "      <td>188</td>\n",
       "      <td>0</td>\n",
       "      <td>1.342334</td>\n",
       "      <td>103.760013</td>\n",
       "    </tr>\n",
       "    <tr>\n",
       "      <th>3</th>\n",
       "      <td>86070</td>\n",
       "      <td>2012-04</td>\n",
       "      <td>BISHAN</td>\n",
       "      <td>4 ROOM</td>\n",
       "      <td>232</td>\n",
       "      <td>BISHAN ST 22</td>\n",
       "      <td>01 TO 05</td>\n",
       "      <td>103.0</td>\n",
       "      <td>Model A</td>\n",
       "      <td>1992</td>\n",
       "      <td>...</td>\n",
       "      <td>20</td>\n",
       "      <td>1</td>\n",
       "      <td>1.354789</td>\n",
       "      <td>103.844934</td>\n",
       "      <td>389.515528</td>\n",
       "      <td>Catholic High School</td>\n",
       "      <td>253</td>\n",
       "      <td>1</td>\n",
       "      <td>1.354789</td>\n",
       "      <td>103.844934</td>\n",
       "    </tr>\n",
       "    <tr>\n",
       "      <th>4</th>\n",
       "      <td>153632</td>\n",
       "      <td>2017-12</td>\n",
       "      <td>YISHUN</td>\n",
       "      <td>4 ROOM</td>\n",
       "      <td>876</td>\n",
       "      <td>YISHUN ST 81</td>\n",
       "      <td>01 TO 03</td>\n",
       "      <td>83.0</td>\n",
       "      <td>Simplified</td>\n",
       "      <td>1987</td>\n",
       "      <td>...</td>\n",
       "      <td>74</td>\n",
       "      <td>0</td>\n",
       "      <td>1.416280</td>\n",
       "      <td>103.838798</td>\n",
       "      <td>312.025435</td>\n",
       "      <td>Orchid Park Secondary School</td>\n",
       "      <td>208</td>\n",
       "      <td>0</td>\n",
       "      <td>1.414888</td>\n",
       "      <td>103.838335</td>\n",
       "    </tr>\n",
       "  </tbody>\n",
       "</table>\n",
       "<p>5 rows × 78 columns</p>\n",
       "</div>"
      ],
      "text/plain": [
       "       id Tranc_YearMonth             town  flat_type block       street_name  \\\n",
       "0   88471         2016-05  KALLANG/WHAMPOA     4 ROOM    3B  UPP BOON KENG RD   \n",
       "1  122598         2012-07           BISHAN     5 ROOM   153      BISHAN ST 13   \n",
       "2  170897         2013-07      BUKIT BATOK  EXECUTIVE  289B    BT BATOK ST 25   \n",
       "3   86070         2012-04           BISHAN     4 ROOM   232      BISHAN ST 22   \n",
       "4  153632         2017-12           YISHUN     4 ROOM   876      YISHUN ST 81   \n",
       "\n",
       "  storey_range  floor_area_sqm  flat_model  lease_commence_date  ...  vacancy  \\\n",
       "0     10 TO 12            90.0     Model A                 2006  ...       78   \n",
       "1     07 TO 09           130.0    Improved                 1987  ...       45   \n",
       "2     13 TO 15           144.0   Apartment                 1997  ...       39   \n",
       "3     01 TO 05           103.0     Model A                 1992  ...       20   \n",
       "4     01 TO 03            83.0  Simplified                 1987  ...       74   \n",
       "\n",
       "   pri_sch_affiliation  pri_sch_latitude  pri_sch_longitude  \\\n",
       "0                    1          1.317659         103.882504   \n",
       "1                    1          1.349783         103.854529   \n",
       "2                    0          1.345245         103.756265   \n",
       "3                    1          1.354789         103.844934   \n",
       "4                    0          1.416280         103.838798   \n",
       "\n",
       "   sec_sch_nearest_dist                             sec_sch_name  \\\n",
       "0           1138.633422                 Geylang Methodist School   \n",
       "1            447.894399  Kuo Chuan Presbyterian Secondary School   \n",
       "2            180.074558             Yusof Ishak Secondary School   \n",
       "3            389.515528                     Catholic High School   \n",
       "4            312.025435             Orchid Park Secondary School   \n",
       "\n",
       "   cutoff_point affiliation sec_sch_latitude  sec_sch_longitude  \n",
       "0           224           0         1.317659         103.882504  \n",
       "1           232           0         1.350110         103.854892  \n",
       "2           188           0         1.342334         103.760013  \n",
       "3           253           1         1.354789         103.844934  \n",
       "4           208           0         1.414888         103.838335  \n",
       "\n",
       "[5 rows x 78 columns]"
      ]
     },
     "execution_count": 438,
     "metadata": {},
     "output_type": "execute_result"
    }
   ],
   "source": [
    "hdb = pd.read_csv('./datasets/train.csv')\n",
    "\n",
    "hdb.head()"
   ]
  },
  {
   "cell_type": "code",
   "execution_count": 439,
   "id": "f970fe16",
   "metadata": {},
   "outputs": [
    {
     "name": "stdout",
     "output_type": "stream",
     "text": [
      "150634 rows and 78 columns\n"
     ]
    }
   ],
   "source": [
    "print(f\"{hdb.shape[0]} rows and {hdb.shape[1]} columns\")"
   ]
  },
  {
   "cell_type": "markdown",
   "id": "f117eac7",
   "metadata": {},
   "source": [
    "### 150634 rows & 78 columns"
   ]
  },
  {
   "cell_type": "markdown",
   "id": "93c7ddb3",
   "metadata": {},
   "source": [
    "### Check for duplicates by id column"
   ]
  },
  {
   "cell_type": "code",
   "execution_count": 440,
   "id": "044dbb8b",
   "metadata": {},
   "outputs": [
    {
     "data": {
      "text/plain": [
       "id\n",
       "88471     1\n",
       "122598    1\n",
       "170897    1\n",
       "86070     1\n",
       "153632    1\n",
       "         ..\n",
       "39814     1\n",
       "147177    1\n",
       "179087    1\n",
       "21309     1\n",
       "185947    1\n",
       "Name: count, Length: 150634, dtype: int64"
      ]
     },
     "execution_count": 440,
     "metadata": {},
     "output_type": "execute_result"
    }
   ],
   "source": [
    "hdb['id'].value_counts().sort_values(ascending=False)"
   ]
  },
  {
   "cell_type": "markdown",
   "id": "ae18ecba",
   "metadata": {},
   "source": [
    "### Dropping columns that won't be included after inspecting Data dict"
   ]
  },
  {
   "cell_type": "code",
   "execution_count": 441,
   "id": "e925d2a4",
   "metadata": {},
   "outputs": [],
   "source": [
    "hdb = hdb.drop(columns=['block', 'address', 'lower', 'upper', 'mid', 'full_flat_type', 'floor_area_sqft', 'lease_commence_date', 'year_completed', \n",
    "                  'postal', 'Mall_Within_500m', 'Mall_Within_1km', 'Mall_Within_2km', 'Hawker_Within_500m', 'Hawker_Within_1km', \n",
    "                  'Hawker_Within_2km', 'mrt_name', 'mrt_latitude', 'mrt_longitude', 'bus_stop_name', 'bus_stop_latitude', 'bus_stop_longitude',\n",
    "                  'pri_sch_name', 'vacancy', 'pri_sch_latitude', 'pri_sch_longitude', 'sec_sch_name', 'affiliation', 'sec_sch_latitude', \n",
    "                  'sec_sch_longitude', 'planning_area', 'residential', 'market_hawker'])"
   ]
  },
  {
   "cell_type": "markdown",
   "id": "bfe0219b",
   "metadata": {},
   "source": [
    "### Check for NA"
   ]
  },
  {
   "cell_type": "code",
   "execution_count": 442,
   "id": "6c7e4080",
   "metadata": {},
   "outputs": [
    {
     "data": {
      "text/plain": [
       "Mall_Nearest_Distance    829\n",
       "Tranc_YearMonth            0\n",
       "town                       0\n",
       "flat_type                  0\n",
       "id                         0\n",
       "dtype: int64"
      ]
     },
     "execution_count": 442,
     "metadata": {},
     "output_type": "execute_result"
    }
   ],
   "source": [
    "hdb.isna().sum().sort_values(ascending=False).head()"
   ]
  },
  {
   "cell_type": "markdown",
   "id": "5b3064f0",
   "metadata": {},
   "source": [
    "### Imputing for Mall_nearest_distance"
   ]
  },
  {
   "cell_type": "code",
   "execution_count": 443,
   "id": "427cf11f",
   "metadata": {},
   "outputs": [],
   "source": [
    "mean_nearest_mall = hdb.groupby('town')['Mall_Nearest_Distance'].mean()\n",
    "\n",
    "mean_nearest_mall = mean_nearest_mall.reset_index()\n",
    "\n"
   ]
  },
  {
   "cell_type": "code",
   "execution_count": 444,
   "id": "d1e7956f",
   "metadata": {},
   "outputs": [],
   "source": [
    "hdb = pd.merge(hdb, mean_nearest_mall, how='left', on='town')\n"
   ]
  },
  {
   "cell_type": "code",
   "execution_count": 445,
   "id": "12230008",
   "metadata": {},
   "outputs": [
    {
     "data": {
      "text/html": [
       "<div>\n",
       "<style scoped>\n",
       "    .dataframe tbody tr th:only-of-type {\n",
       "        vertical-align: middle;\n",
       "    }\n",
       "\n",
       "    .dataframe tbody tr th {\n",
       "        vertical-align: top;\n",
       "    }\n",
       "\n",
       "    .dataframe thead th {\n",
       "        text-align: right;\n",
       "    }\n",
       "</style>\n",
       "<table border=\"1\" class=\"dataframe\">\n",
       "  <thead>\n",
       "    <tr style=\"text-align: right;\">\n",
       "      <th></th>\n",
       "      <th>id</th>\n",
       "      <th>Tranc_YearMonth</th>\n",
       "      <th>town</th>\n",
       "      <th>flat_type</th>\n",
       "      <th>street_name</th>\n",
       "      <th>storey_range</th>\n",
       "      <th>floor_area_sqm</th>\n",
       "      <th>flat_model</th>\n",
       "      <th>resale_price</th>\n",
       "      <th>Tranc_Year</th>\n",
       "      <th>...</th>\n",
       "      <th>hawker_market_stalls</th>\n",
       "      <th>mrt_nearest_distance</th>\n",
       "      <th>bus_interchange</th>\n",
       "      <th>mrt_interchange</th>\n",
       "      <th>bus_stop_nearest_distance</th>\n",
       "      <th>pri_sch_nearest_distance</th>\n",
       "      <th>pri_sch_affiliation</th>\n",
       "      <th>sec_sch_nearest_dist</th>\n",
       "      <th>cutoff_point</th>\n",
       "      <th>Mall_Nearest_Distance_y</th>\n",
       "    </tr>\n",
       "  </thead>\n",
       "  <tbody>\n",
       "    <tr>\n",
       "      <th>0</th>\n",
       "      <td>88471</td>\n",
       "      <td>2016-05</td>\n",
       "      <td>KALLANG/WHAMPOA</td>\n",
       "      <td>4 ROOM</td>\n",
       "      <td>UPP BOON KENG RD</td>\n",
       "      <td>10 TO 12</td>\n",
       "      <td>90.0</td>\n",
       "      <td>Model A</td>\n",
       "      <td>680000.0</td>\n",
       "      <td>2016</td>\n",
       "      <td>...</td>\n",
       "      <td>60</td>\n",
       "      <td>330.083069</td>\n",
       "      <td>0</td>\n",
       "      <td>0</td>\n",
       "      <td>29.427395</td>\n",
       "      <td>1138.633422</td>\n",
       "      <td>1</td>\n",
       "      <td>1138.633422</td>\n",
       "      <td>224</td>\n",
       "      <td>901.945072</td>\n",
       "    </tr>\n",
       "    <tr>\n",
       "      <th>1</th>\n",
       "      <td>122598</td>\n",
       "      <td>2012-07</td>\n",
       "      <td>BISHAN</td>\n",
       "      <td>5 ROOM</td>\n",
       "      <td>BISHAN ST 13</td>\n",
       "      <td>07 TO 09</td>\n",
       "      <td>130.0</td>\n",
       "      <td>Improved</td>\n",
       "      <td>665000.0</td>\n",
       "      <td>2012</td>\n",
       "      <td>...</td>\n",
       "      <td>77</td>\n",
       "      <td>903.659703</td>\n",
       "      <td>1</td>\n",
       "      <td>1</td>\n",
       "      <td>58.207761</td>\n",
       "      <td>415.607357</td>\n",
       "      <td>1</td>\n",
       "      <td>447.894399</td>\n",
       "      <td>232</td>\n",
       "      <td>757.967159</td>\n",
       "    </tr>\n",
       "    <tr>\n",
       "      <th>2</th>\n",
       "      <td>170897</td>\n",
       "      <td>2013-07</td>\n",
       "      <td>BUKIT BATOK</td>\n",
       "      <td>EXECUTIVE</td>\n",
       "      <td>BT BATOK ST 25</td>\n",
       "      <td>13 TO 15</td>\n",
       "      <td>144.0</td>\n",
       "      <td>Apartment</td>\n",
       "      <td>838000.0</td>\n",
       "      <td>2013</td>\n",
       "      <td>...</td>\n",
       "      <td>95</td>\n",
       "      <td>1334.251197</td>\n",
       "      <td>1</td>\n",
       "      <td>0</td>\n",
       "      <td>214.747860</td>\n",
       "      <td>498.849039</td>\n",
       "      <td>0</td>\n",
       "      <td>180.074558</td>\n",
       "      <td>188</td>\n",
       "      <td>915.499125</td>\n",
       "    </tr>\n",
       "    <tr>\n",
       "      <th>3</th>\n",
       "      <td>86070</td>\n",
       "      <td>2012-04</td>\n",
       "      <td>BISHAN</td>\n",
       "      <td>4 ROOM</td>\n",
       "      <td>BISHAN ST 22</td>\n",
       "      <td>01 TO 05</td>\n",
       "      <td>103.0</td>\n",
       "      <td>Model A</td>\n",
       "      <td>550000.0</td>\n",
       "      <td>2012</td>\n",
       "      <td>...</td>\n",
       "      <td>86</td>\n",
       "      <td>907.453484</td>\n",
       "      <td>1</td>\n",
       "      <td>1</td>\n",
       "      <td>43.396521</td>\n",
       "      <td>389.515528</td>\n",
       "      <td>1</td>\n",
       "      <td>389.515528</td>\n",
       "      <td>253</td>\n",
       "      <td>757.967159</td>\n",
       "    </tr>\n",
       "    <tr>\n",
       "      <th>4</th>\n",
       "      <td>153632</td>\n",
       "      <td>2017-12</td>\n",
       "      <td>YISHUN</td>\n",
       "      <td>4 ROOM</td>\n",
       "      <td>YISHUN ST 81</td>\n",
       "      <td>01 TO 03</td>\n",
       "      <td>83.0</td>\n",
       "      <td>Simplified</td>\n",
       "      <td>298000.0</td>\n",
       "      <td>2017</td>\n",
       "      <td>...</td>\n",
       "      <td>0</td>\n",
       "      <td>412.343032</td>\n",
       "      <td>0</td>\n",
       "      <td>0</td>\n",
       "      <td>129.422752</td>\n",
       "      <td>401.200584</td>\n",
       "      <td>0</td>\n",
       "      <td>312.025435</td>\n",
       "      <td>208</td>\n",
       "      <td>619.459242</td>\n",
       "    </tr>\n",
       "  </tbody>\n",
       "</table>\n",
       "<p>5 rows × 46 columns</p>\n",
       "</div>"
      ],
      "text/plain": [
       "       id Tranc_YearMonth             town  flat_type       street_name  \\\n",
       "0   88471         2016-05  KALLANG/WHAMPOA     4 ROOM  UPP BOON KENG RD   \n",
       "1  122598         2012-07           BISHAN     5 ROOM      BISHAN ST 13   \n",
       "2  170897         2013-07      BUKIT BATOK  EXECUTIVE    BT BATOK ST 25   \n",
       "3   86070         2012-04           BISHAN     4 ROOM      BISHAN ST 22   \n",
       "4  153632         2017-12           YISHUN     4 ROOM      YISHUN ST 81   \n",
       "\n",
       "  storey_range  floor_area_sqm  flat_model  resale_price  Tranc_Year  ...  \\\n",
       "0     10 TO 12            90.0     Model A      680000.0        2016  ...   \n",
       "1     07 TO 09           130.0    Improved      665000.0        2012  ...   \n",
       "2     13 TO 15           144.0   Apartment      838000.0        2013  ...   \n",
       "3     01 TO 05           103.0     Model A      550000.0        2012  ...   \n",
       "4     01 TO 03            83.0  Simplified      298000.0        2017  ...   \n",
       "\n",
       "   hawker_market_stalls  mrt_nearest_distance  bus_interchange  \\\n",
       "0                    60            330.083069                0   \n",
       "1                    77            903.659703                1   \n",
       "2                    95           1334.251197                1   \n",
       "3                    86            907.453484                1   \n",
       "4                     0            412.343032                0   \n",
       "\n",
       "   mrt_interchange  bus_stop_nearest_distance pri_sch_nearest_distance  \\\n",
       "0                0                  29.427395              1138.633422   \n",
       "1                1                  58.207761               415.607357   \n",
       "2                0                 214.747860               498.849039   \n",
       "3                1                  43.396521               389.515528   \n",
       "4                0                 129.422752               401.200584   \n",
       "\n",
       "  pri_sch_affiliation sec_sch_nearest_dist  cutoff_point  \\\n",
       "0                   1          1138.633422           224   \n",
       "1                   1           447.894399           232   \n",
       "2                   0           180.074558           188   \n",
       "3                   1           389.515528           253   \n",
       "4                   0           312.025435           208   \n",
       "\n",
       "   Mall_Nearest_Distance_y  \n",
       "0               901.945072  \n",
       "1               757.967159  \n",
       "2               915.499125  \n",
       "3               757.967159  \n",
       "4               619.459242  \n",
       "\n",
       "[5 rows x 46 columns]"
      ]
     },
     "execution_count": 445,
     "metadata": {},
     "output_type": "execute_result"
    }
   ],
   "source": [
    "hdb.head()"
   ]
  },
  {
   "cell_type": "code",
   "execution_count": 446,
   "id": "36b5e4f9",
   "metadata": {},
   "outputs": [],
   "source": [
    "hdb['Mall_Nearest_Distance_x'] = hdb['Mall_Nearest_Distance_x'].fillna(hdb['Mall_Nearest_Distance_y'])"
   ]
  },
  {
   "cell_type": "code",
   "execution_count": 447,
   "id": "642bb7e1",
   "metadata": {},
   "outputs": [],
   "source": [
    "hdb = hdb.drop(columns='Mall_Nearest_Distance_y')"
   ]
  },
  {
   "cell_type": "code",
   "execution_count": 448,
   "id": "2ab96829",
   "metadata": {},
   "outputs": [
    {
     "data": {
      "text/plain": [
       "id                 0\n",
       "Tranc_YearMonth    0\n",
       "town               0\n",
       "flat_type          0\n",
       "street_name        0\n",
       "dtype: int64"
      ]
     },
     "execution_count": 448,
     "metadata": {},
     "output_type": "execute_result"
    }
   ],
   "source": [
    "hdb.isnull().sum().sort_values(ascending=False).head()"
   ]
  },
  {
   "cell_type": "markdown",
   "id": "39fd06e0",
   "metadata": {},
   "source": [
    "### Checking datatypes"
   ]
  },
  {
   "cell_type": "code",
   "execution_count": 449,
   "id": "f6b87742",
   "metadata": {},
   "outputs": [
    {
     "name": "stdout",
     "output_type": "stream",
     "text": [
      "<class 'pandas.core.frame.DataFrame'>\n",
      "RangeIndex: 150634 entries, 0 to 150633\n",
      "Data columns (total 45 columns):\n",
      " #   Column                     Non-Null Count   Dtype  \n",
      "---  ------                     --------------   -----  \n",
      " 0   id                         150634 non-null  int64  \n",
      " 1   Tranc_YearMonth            150634 non-null  object \n",
      " 2   town                       150634 non-null  object \n",
      " 3   flat_type                  150634 non-null  object \n",
      " 4   street_name                150634 non-null  object \n",
      " 5   storey_range               150634 non-null  object \n",
      " 6   floor_area_sqm             150634 non-null  float64\n",
      " 7   flat_model                 150634 non-null  object \n",
      " 8   resale_price               150634 non-null  float64\n",
      " 9   Tranc_Year                 150634 non-null  int64  \n",
      " 10  Tranc_Month                150634 non-null  int64  \n",
      " 11  mid_storey                 150634 non-null  int64  \n",
      " 12  price_per_sqft             150634 non-null  float64\n",
      " 13  hdb_age                    150634 non-null  int64  \n",
      " 14  max_floor_lvl              150634 non-null  int64  \n",
      " 15  commercial                 150634 non-null  object \n",
      " 16  multistorey_carpark        150634 non-null  object \n",
      " 17  precinct_pavilion          150634 non-null  object \n",
      " 18  total_dwelling_units       150634 non-null  int64  \n",
      " 19  1room_sold                 150634 non-null  int64  \n",
      " 20  2room_sold                 150634 non-null  int64  \n",
      " 21  3room_sold                 150634 non-null  int64  \n",
      " 22  4room_sold                 150634 non-null  int64  \n",
      " 23  5room_sold                 150634 non-null  int64  \n",
      " 24  exec_sold                  150634 non-null  int64  \n",
      " 25  multigen_sold              150634 non-null  int64  \n",
      " 26  studio_apartment_sold      150634 non-null  int64  \n",
      " 27  1room_rental               150634 non-null  int64  \n",
      " 28  2room_rental               150634 non-null  int64  \n",
      " 29  3room_rental               150634 non-null  int64  \n",
      " 30  other_room_rental          150634 non-null  int64  \n",
      " 31  Latitude                   150634 non-null  float64\n",
      " 32  Longitude                  150634 non-null  float64\n",
      " 33  Mall_Nearest_Distance_x    150634 non-null  float64\n",
      " 34  Hawker_Nearest_Distance    150634 non-null  float64\n",
      " 35  hawker_food_stalls         150634 non-null  int64  \n",
      " 36  hawker_market_stalls       150634 non-null  int64  \n",
      " 37  mrt_nearest_distance       150634 non-null  float64\n",
      " 38  bus_interchange            150634 non-null  int64  \n",
      " 39  mrt_interchange            150634 non-null  int64  \n",
      " 40  bus_stop_nearest_distance  150634 non-null  float64\n",
      " 41  pri_sch_nearest_distance   150634 non-null  float64\n",
      " 42  pri_sch_affiliation        150634 non-null  int64  \n",
      " 43  sec_sch_nearest_dist       150634 non-null  float64\n",
      " 44  cutoff_point               150634 non-null  int64  \n",
      "dtypes: float64(11), int64(25), object(9)\n",
      "memory usage: 51.7+ MB\n"
     ]
    }
   ],
   "source": [
    "hdb.info()"
   ]
  },
  {
   "cell_type": "code",
   "execution_count": 450,
   "id": "b8ab624b",
   "metadata": {},
   "outputs": [
    {
     "name": "stderr",
     "output_type": "stream",
     "text": [
      "C:\\Users\\benwr\\AppData\\Local\\Temp\\ipykernel_13008\\4027540773.py:1: UserWarning: The argument 'infer_datetime_format' is deprecated and will be removed in a future version. A strict version of it is now the default, see https://pandas.pydata.org/pdeps/0004-consistent-to-datetime-parsing.html. You can safely remove this argument.\n",
      "  hdb['Tranc_YearMonth'] = pd.to_datetime(hdb['Tranc_YearMonth'], infer_datetime_format=True)\n"
     ]
    }
   ],
   "source": [
    "hdb['Tranc_YearMonth'] = pd.to_datetime(hdb['Tranc_YearMonth'], infer_datetime_format=True)"
   ]
  },
  {
   "cell_type": "code",
   "execution_count": 451,
   "id": "dbcc3994",
   "metadata": {},
   "outputs": [],
   "source": [
    "hdb = hdb.astype({'floor_area_sqm':'int'})"
   ]
  },
  {
   "cell_type": "code",
   "execution_count": 452,
   "id": "9df07904",
   "metadata": {},
   "outputs": [],
   "source": [
    "# commercial\n",
    "# multistorey_carpark\n",
    "# precinct_pavilion\n",
    "\n",
    "# These 3 columns have 'Y' & 'N' values. We change them to 1's & 0's. \n",
    "\n",
    "hdb['commercial'] = hdb['commercial'].map({'Y': 1, 'N' : 0})\n",
    "\n",
    "hdb['multistorey_carpark'] = hdb['multistorey_carpark'].map({'Y': 1, 'N' : 0})\n",
    "\n",
    "hdb['precinct_pavilion'] = hdb['precinct_pavilion'].map({'Y': 1, 'N' : 0})\n",
    "\n"
   ]
  },
  {
   "cell_type": "code",
   "execution_count": 453,
   "id": "4984c289",
   "metadata": {},
   "outputs": [
    {
     "name": "stdout",
     "output_type": "stream",
     "text": [
      "<class 'pandas.core.frame.DataFrame'>\n",
      "RangeIndex: 150634 entries, 0 to 150633\n",
      "Data columns (total 45 columns):\n",
      " #   Column                     Non-Null Count   Dtype         \n",
      "---  ------                     --------------   -----         \n",
      " 0   id                         150634 non-null  int64         \n",
      " 1   Tranc_YearMonth            150634 non-null  datetime64[ns]\n",
      " 2   town                       150634 non-null  object        \n",
      " 3   flat_type                  150634 non-null  object        \n",
      " 4   street_name                150634 non-null  object        \n",
      " 5   storey_range               150634 non-null  object        \n",
      " 6   floor_area_sqm             150634 non-null  int64         \n",
      " 7   flat_model                 150634 non-null  object        \n",
      " 8   resale_price               150634 non-null  float64       \n",
      " 9   Tranc_Year                 150634 non-null  int64         \n",
      " 10  Tranc_Month                150634 non-null  int64         \n",
      " 11  mid_storey                 150634 non-null  int64         \n",
      " 12  price_per_sqft             150634 non-null  float64       \n",
      " 13  hdb_age                    150634 non-null  int64         \n",
      " 14  max_floor_lvl              150634 non-null  int64         \n",
      " 15  commercial                 150634 non-null  int64         \n",
      " 16  multistorey_carpark        150634 non-null  int64         \n",
      " 17  precinct_pavilion          150634 non-null  int64         \n",
      " 18  total_dwelling_units       150634 non-null  int64         \n",
      " 19  1room_sold                 150634 non-null  int64         \n",
      " 20  2room_sold                 150634 non-null  int64         \n",
      " 21  3room_sold                 150634 non-null  int64         \n",
      " 22  4room_sold                 150634 non-null  int64         \n",
      " 23  5room_sold                 150634 non-null  int64         \n",
      " 24  exec_sold                  150634 non-null  int64         \n",
      " 25  multigen_sold              150634 non-null  int64         \n",
      " 26  studio_apartment_sold      150634 non-null  int64         \n",
      " 27  1room_rental               150634 non-null  int64         \n",
      " 28  2room_rental               150634 non-null  int64         \n",
      " 29  3room_rental               150634 non-null  int64         \n",
      " 30  other_room_rental          150634 non-null  int64         \n",
      " 31  Latitude                   150634 non-null  float64       \n",
      " 32  Longitude                  150634 non-null  float64       \n",
      " 33  Mall_Nearest_Distance_x    150634 non-null  float64       \n",
      " 34  Hawker_Nearest_Distance    150634 non-null  float64       \n",
      " 35  hawker_food_stalls         150634 non-null  int64         \n",
      " 36  hawker_market_stalls       150634 non-null  int64         \n",
      " 37  mrt_nearest_distance       150634 non-null  float64       \n",
      " 38  bus_interchange            150634 non-null  int64         \n",
      " 39  mrt_interchange            150634 non-null  int64         \n",
      " 40  bus_stop_nearest_distance  150634 non-null  float64       \n",
      " 41  pri_sch_nearest_distance   150634 non-null  float64       \n",
      " 42  pri_sch_affiliation        150634 non-null  int64         \n",
      " 43  sec_sch_nearest_dist       150634 non-null  float64       \n",
      " 44  cutoff_point               150634 non-null  int64         \n",
      "dtypes: datetime64[ns](1), float64(10), int64(29), object(5)\n",
      "memory usage: 51.7+ MB\n"
     ]
    }
   ],
   "source": [
    "hdb.info()"
   ]
  },
  {
   "cell_type": "markdown",
   "id": "305e7f7c",
   "metadata": {},
   "source": [
    "# Handling outliers:"
   ]
  },
  {
   "cell_type": "code",
   "execution_count": 467,
   "id": "f843dee8",
   "metadata": {},
   "outputs": [
    {
     "name": "stdout",
     "output_type": "stream",
     "text": [
      "[('floor_area_sqm', np.float64(19.5), np.float64(167.5)), ('resale_price', np.float64(87500.0), np.float64(779500.0)), ('Tranc_Year', np.float64(2006.5), np.float64(2026.5)), ('mid_storey', np.float64(-4.0), np.float64(20.0)), ('price_per_sqft', np.float64(201.34884637564792), np.float64(637.6804322009804)), ('hdb_age', np.float64(-5.5), np.float64(62.5)), ('max_floor_lvl', np.float64(6.0), np.float64(22.0)), ('Mall_Nearest_Distance_x', np.float64(-322.1303121125), np.float64(1582.0513905875)), ('Hawker_Nearest_Distance', np.float64(-1588.0928485000002), np.float64(3639.1744755)), ('hawker_food_stalls', np.float64(10.0), np.float64(90.0)), ('hawker_market_stalls', np.float64(-148.5), np.float64(247.5)), ('mrt_nearest_distance', np.float64(-317.9355169727911), np.float64(1751.935997825704)), ('bus_stop_nearest_distance', np.float64(-32.39738682939844), np.float64(254.0822865370127)), ('pri_sch_nearest_distance', np.float64(-185.56116819648815), np.float64(914.823716293168)), ('sec_sch_nearest_dist', np.float64(-240.71144153342772), np.float64(1175.2814235451142))]\n"
     ]
    }
   ],
   "source": [
    "qr = []\n",
    "col_data = hdb.columns[[6, 8, 9, 11, 12, 13, 14, 33, 34, 35, 36, 37, 40, 41, 43]]\n",
    "for x in col_data:\n",
    "    col_values = hdb[x]\n",
    "    iqrc = iqr(col_values)\n",
    "    lower_threshold = np.quantile(col_values, 0.25) - 1.5 * iqrc\n",
    "    upper_threshold = np.quantile(col_values, 0.75) + 1.5 * iqrc\n",
    "    qr.append((x, lower_threshold, upper_threshold))\n",
    "print(qr)"
   ]
  },
  {
   "cell_type": "code",
   "execution_count": 468,
   "id": "3d7de7b6",
   "metadata": {},
   "outputs": [],
   "source": [
    "for col, lower, upper in qr:\n",
    "    hdb = hdb[(hdb[col] >= lower) & (hdb[col] <= upper)]"
   ]
  },
  {
   "cell_type": "code",
   "execution_count": 469,
   "id": "2c1a5af7",
   "metadata": {},
   "outputs": [
    {
     "data": {
      "text/plain": [
       "(103104, 45)"
      ]
     },
     "execution_count": 469,
     "metadata": {},
     "output_type": "execute_result"
    }
   ],
   "source": [
    "hdb.shape"
   ]
  },
  {
   "cell_type": "markdown",
   "id": "5f5e01bc",
   "metadata": {},
   "source": [
    "# Remaining workflow at Day 1 end:\n",
    "\n",
    "### Check for: \n",
    "\n",
    "Outliers, spread\n",
    "\n",
    "### Possibly using: \n",
    "\n",
    "describe, histograms, scipy, "
   ]
  }
 ],
 "metadata": {
  "kernelspec": {
   "display_name": "Python 3",
   "language": "python",
   "name": "python3"
  },
  "language_info": {
   "codemirror_mode": {
    "name": "ipython",
    "version": 3
   },
   "file_extension": ".py",
   "mimetype": "text/x-python",
   "name": "python",
   "nbconvert_exporter": "python",
   "pygments_lexer": "ipython3",
   "version": "3.13.4"
  }
 },
 "nbformat": 4,
 "nbformat_minor": 5
}
