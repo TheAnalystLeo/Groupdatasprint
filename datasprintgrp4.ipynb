{
 "cells": [
  {
   "cell_type": "markdown",
   "id": "427f2b1b",
   "metadata": {},
   "source": [
    "# <font color='blue'> Data Sprint HDB Resale Prices </font>"
   ]
  },
  {
   "cell_type": "markdown",
   "id": "d2a77373",
   "metadata": {},
   "source": [
    "Group 4: Ameer, Benjamin, Leonard, Wei Yu."
   ]
  },
  {
   "cell_type": "markdown",
   "id": "aebed891",
   "metadata": {},
   "source": [
    "### Exploration:"
   ]
  },
  {
   "cell_type": "code",
   "execution_count": null,
   "id": "e5a959b9",
   "metadata": {},
   "outputs": [],
   "source": [
    "import pandas as pd\n",
    "import numpy as np\n",
    "import matplotlib.pyplot as plt\n",
    "import plotly.express as px\n",
    "import seaborn as sns\n",
    "\n",
    "# set the plots to display in the Jupyter notebook\n",
    "%matplotlib inline"
   ]
  }
 ],
 "metadata": {
  "language_info": {
   "name": "python"
  }
 },
 "nbformat": 4,
 "nbformat_minor": 5
}
